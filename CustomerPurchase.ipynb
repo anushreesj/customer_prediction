{
 "cells": [
  {
   "cell_type": "code",
   "execution_count": 27,
   "metadata": {},
   "outputs": [
    {
     "name": "stderr",
     "output_type": "stream",
     "text": [
      "C:\\Users\\Anu\\Anaconda3\\lib\\site-packages\\h5py\\__init__.py:36: FutureWarning: Conversion of the second argument of issubdtype from `float` to `np.floating` is deprecated. In future, it will be treated as `np.float64 == np.dtype(float).type`.\n",
      "  from ._conv import register_converters as _register_converters\n"
     ]
    }
   ],
   "source": [
    "import numpy as np\n",
    "import matplotlib.pyplot as plt\n",
    "import pandas as pd\n",
    "import seaborn as sns\n",
    "from sklearn import preprocessing \n",
    "import tensorflow as tf\n",
    "from tensorflow.python import keras"
   ]
  },
  {
   "cell_type": "code",
   "execution_count": 2,
   "metadata": {},
   "outputs": [],
   "source": [
    "dataset = pd.read_csv('blackfriday.csv')"
   ]
  },
  {
   "cell_type": "code",
   "execution_count": 3,
   "metadata": {},
   "outputs": [
    {
     "data": {
      "text/plain": [
       "Index(['User_ID', 'Product_ID', 'Gender', 'Age', 'Occupation', 'City_Category',\n",
       "       'Stay_In_Current_City_Years', 'Marital_Status', 'Product_Category_1',\n",
       "       'Product_Category_2', 'Product_Category_3', 'Purchase'],\n",
       "      dtype='object')"
      ]
     },
     "execution_count": 3,
     "metadata": {},
     "output_type": "execute_result"
    }
   ],
   "source": [
    "dataset.columns"
   ]
  },
  {
   "cell_type": "code",
   "execution_count": 4,
   "metadata": {},
   "outputs": [
    {
     "data": {
      "text/html": [
       "<div>\n",
       "<style scoped>\n",
       "    .dataframe tbody tr th:only-of-type {\n",
       "        vertical-align: middle;\n",
       "    }\n",
       "\n",
       "    .dataframe tbody tr th {\n",
       "        vertical-align: top;\n",
       "    }\n",
       "\n",
       "    .dataframe thead th {\n",
       "        text-align: right;\n",
       "    }\n",
       "</style>\n",
       "<table border=\"1\" class=\"dataframe\">\n",
       "  <thead>\n",
       "    <tr style=\"text-align: right;\">\n",
       "      <th></th>\n",
       "      <th>User_ID</th>\n",
       "      <th>Product_ID</th>\n",
       "      <th>Gender</th>\n",
       "      <th>Age</th>\n",
       "      <th>Occupation</th>\n",
       "      <th>City_Category</th>\n",
       "      <th>Stay_In_Current_City_Years</th>\n",
       "      <th>Marital_Status</th>\n",
       "      <th>Product_Category_1</th>\n",
       "      <th>Product_Category_2</th>\n",
       "      <th>Product_Category_3</th>\n",
       "      <th>Purchase</th>\n",
       "    </tr>\n",
       "  </thead>\n",
       "  <tbody>\n",
       "    <tr>\n",
       "      <th>0</th>\n",
       "      <td>1000001</td>\n",
       "      <td>P00069042</td>\n",
       "      <td>F</td>\n",
       "      <td>0-17</td>\n",
       "      <td>10</td>\n",
       "      <td>A</td>\n",
       "      <td>2</td>\n",
       "      <td>0</td>\n",
       "      <td>3</td>\n",
       "      <td>NaN</td>\n",
       "      <td>NaN</td>\n",
       "      <td>8370</td>\n",
       "    </tr>\n",
       "    <tr>\n",
       "      <th>1</th>\n",
       "      <td>1000001</td>\n",
       "      <td>P00248942</td>\n",
       "      <td>F</td>\n",
       "      <td>0-17</td>\n",
       "      <td>10</td>\n",
       "      <td>A</td>\n",
       "      <td>2</td>\n",
       "      <td>0</td>\n",
       "      <td>1</td>\n",
       "      <td>6.0</td>\n",
       "      <td>14.0</td>\n",
       "      <td>15200</td>\n",
       "    </tr>\n",
       "    <tr>\n",
       "      <th>2</th>\n",
       "      <td>1000001</td>\n",
       "      <td>P00087842</td>\n",
       "      <td>F</td>\n",
       "      <td>0-17</td>\n",
       "      <td>10</td>\n",
       "      <td>A</td>\n",
       "      <td>2</td>\n",
       "      <td>0</td>\n",
       "      <td>12</td>\n",
       "      <td>NaN</td>\n",
       "      <td>NaN</td>\n",
       "      <td>1422</td>\n",
       "    </tr>\n",
       "    <tr>\n",
       "      <th>3</th>\n",
       "      <td>1000001</td>\n",
       "      <td>P00085442</td>\n",
       "      <td>F</td>\n",
       "      <td>0-17</td>\n",
       "      <td>10</td>\n",
       "      <td>A</td>\n",
       "      <td>2</td>\n",
       "      <td>0</td>\n",
       "      <td>12</td>\n",
       "      <td>14.0</td>\n",
       "      <td>NaN</td>\n",
       "      <td>1057</td>\n",
       "    </tr>\n",
       "    <tr>\n",
       "      <th>4</th>\n",
       "      <td>1000002</td>\n",
       "      <td>P00285442</td>\n",
       "      <td>M</td>\n",
       "      <td>0-17</td>\n",
       "      <td>16</td>\n",
       "      <td>C</td>\n",
       "      <td>4+</td>\n",
       "      <td>0</td>\n",
       "      <td>8</td>\n",
       "      <td>NaN</td>\n",
       "      <td>NaN</td>\n",
       "      <td>7969</td>\n",
       "    </tr>\n",
       "  </tbody>\n",
       "</table>\n",
       "</div>"
      ],
      "text/plain": [
       "   User_ID Product_ID Gender   Age  Occupation City_Category  \\\n",
       "0  1000001  P00069042      F  0-17          10             A   \n",
       "1  1000001  P00248942      F  0-17          10             A   \n",
       "2  1000001  P00087842      F  0-17          10             A   \n",
       "3  1000001  P00085442      F  0-17          10             A   \n",
       "4  1000002  P00285442      M  0-17          16             C   \n",
       "\n",
       "  Stay_In_Current_City_Years  Marital_Status  Product_Category_1  \\\n",
       "0                          2               0                   3   \n",
       "1                          2               0                   1   \n",
       "2                          2               0                  12   \n",
       "3                          2               0                  12   \n",
       "4                         4+               0                   8   \n",
       "\n",
       "   Product_Category_2  Product_Category_3  Purchase  \n",
       "0                 NaN                 NaN      8370  \n",
       "1                 6.0                14.0     15200  \n",
       "2                 NaN                 NaN      1422  \n",
       "3                14.0                 NaN      1057  \n",
       "4                 NaN                 NaN      7969  "
      ]
     },
     "execution_count": 4,
     "metadata": {},
     "output_type": "execute_result"
    }
   ],
   "source": [
    "dataset.head()"
   ]
  },
  {
   "cell_type": "code",
   "execution_count": 5,
   "metadata": {},
   "outputs": [],
   "source": [
    "dataset.Age.unique()\n",
    "gender_dict = {\"F\":0, \"M\":1}\n",
    "dataset[\"Gender\"] = dataset[\"Gender\"].apply(lambda line: gender_dict[line])\n",
    "dataset[\"Gender\"].value_counts()\n",
    "# Converting Age to Numerical values\n",
    "age_dict = {\"0-17\":0, \"18-25\":1, \"26-35\":2, \"36-45\":3, \"46-50\":4, \"51-55\":5, \"55+\":6}\n",
    "dataset['Age'] = dataset['Age'].apply(lambda x: age_dict[x])\n"
   ]
  },
  {
   "cell_type": "code",
   "execution_count": 6,
   "metadata": {},
   "outputs": [
    {
     "data": {
      "text/plain": [
       "1    226493\n",
       "2    166446\n",
       "0    144638\n",
       "Name: City_Category, dtype: int64"
      ]
     },
     "execution_count": 6,
     "metadata": {},
     "output_type": "execute_result"
    }
   ],
   "source": [
    "#same with city \n",
    "city_dict = {'A':0, 'B':1, 'C':2}\n",
    "dataset['City_Category'] = dataset['City_Category'].apply(lambda x: city_dict[x])\n",
    "dataset['City_Category'].value_counts()"
   ]
  },
  {
   "cell_type": "code",
   "execution_count": 7,
   "metadata": {},
   "outputs": [
    {
     "data": {
      "text/html": [
       "<div>\n",
       "<style scoped>\n",
       "    .dataframe tbody tr th:only-of-type {\n",
       "        vertical-align: middle;\n",
       "    }\n",
       "\n",
       "    .dataframe tbody tr th {\n",
       "        vertical-align: top;\n",
       "    }\n",
       "\n",
       "    .dataframe thead th {\n",
       "        text-align: right;\n",
       "    }\n",
       "</style>\n",
       "<table border=\"1\" class=\"dataframe\">\n",
       "  <thead>\n",
       "    <tr style=\"text-align: right;\">\n",
       "      <th></th>\n",
       "      <th>User_ID</th>\n",
       "      <th>Product_ID</th>\n",
       "      <th>Gender</th>\n",
       "      <th>Age</th>\n",
       "      <th>Occupation</th>\n",
       "      <th>City_Category</th>\n",
       "      <th>Stay_In_Current_City_Years</th>\n",
       "      <th>Marital_Status</th>\n",
       "      <th>Product_Category_1</th>\n",
       "      <th>Product_Category_2</th>\n",
       "      <th>Product_Category_3</th>\n",
       "      <th>Purchase</th>\n",
       "    </tr>\n",
       "  </thead>\n",
       "  <tbody>\n",
       "    <tr>\n",
       "      <th>0</th>\n",
       "      <td>1000001</td>\n",
       "      <td>P00069042</td>\n",
       "      <td>0</td>\n",
       "      <td>0</td>\n",
       "      <td>10</td>\n",
       "      <td>0</td>\n",
       "      <td>2</td>\n",
       "      <td>0</td>\n",
       "      <td>3</td>\n",
       "      <td>NaN</td>\n",
       "      <td>NaN</td>\n",
       "      <td>8370</td>\n",
       "    </tr>\n",
       "    <tr>\n",
       "      <th>1</th>\n",
       "      <td>1000001</td>\n",
       "      <td>P00248942</td>\n",
       "      <td>0</td>\n",
       "      <td>0</td>\n",
       "      <td>10</td>\n",
       "      <td>0</td>\n",
       "      <td>2</td>\n",
       "      <td>0</td>\n",
       "      <td>1</td>\n",
       "      <td>6.0</td>\n",
       "      <td>14.0</td>\n",
       "      <td>15200</td>\n",
       "    </tr>\n",
       "    <tr>\n",
       "      <th>2</th>\n",
       "      <td>1000001</td>\n",
       "      <td>P00087842</td>\n",
       "      <td>0</td>\n",
       "      <td>0</td>\n",
       "      <td>10</td>\n",
       "      <td>0</td>\n",
       "      <td>2</td>\n",
       "      <td>0</td>\n",
       "      <td>12</td>\n",
       "      <td>NaN</td>\n",
       "      <td>NaN</td>\n",
       "      <td>1422</td>\n",
       "    </tr>\n",
       "    <tr>\n",
       "      <th>3</th>\n",
       "      <td>1000001</td>\n",
       "      <td>P00085442</td>\n",
       "      <td>0</td>\n",
       "      <td>0</td>\n",
       "      <td>10</td>\n",
       "      <td>0</td>\n",
       "      <td>2</td>\n",
       "      <td>0</td>\n",
       "      <td>12</td>\n",
       "      <td>14.0</td>\n",
       "      <td>NaN</td>\n",
       "      <td>1057</td>\n",
       "    </tr>\n",
       "    <tr>\n",
       "      <th>4</th>\n",
       "      <td>1000002</td>\n",
       "      <td>P00285442</td>\n",
       "      <td>1</td>\n",
       "      <td>0</td>\n",
       "      <td>16</td>\n",
       "      <td>2</td>\n",
       "      <td>4+</td>\n",
       "      <td>0</td>\n",
       "      <td>8</td>\n",
       "      <td>NaN</td>\n",
       "      <td>NaN</td>\n",
       "      <td>7969</td>\n",
       "    </tr>\n",
       "  </tbody>\n",
       "</table>\n",
       "</div>"
      ],
      "text/plain": [
       "   User_ID Product_ID  Gender  Age  Occupation  City_Category  \\\n",
       "0  1000001  P00069042       0    0          10              0   \n",
       "1  1000001  P00248942       0    0          10              0   \n",
       "2  1000001  P00087842       0    0          10              0   \n",
       "3  1000001  P00085442       0    0          10              0   \n",
       "4  1000002  P00285442       1    0          16              2   \n",
       "\n",
       "  Stay_In_Current_City_Years  Marital_Status  Product_Category_1  \\\n",
       "0                          2               0                   3   \n",
       "1                          2               0                   1   \n",
       "2                          2               0                  12   \n",
       "3                          2               0                  12   \n",
       "4                         4+               0                   8   \n",
       "\n",
       "   Product_Category_2  Product_Category_3  Purchase  \n",
       "0                 NaN                 NaN      8370  \n",
       "1                 6.0                14.0     15200  \n",
       "2                 NaN                 NaN      1422  \n",
       "3                14.0                 NaN      1057  \n",
       "4                 NaN                 NaN      7969  "
      ]
     },
     "execution_count": 7,
     "metadata": {},
     "output_type": "execute_result"
    }
   ],
   "source": [
    "dataset.head()"
   ]
  },
  {
   "cell_type": "code",
   "execution_count": 8,
   "metadata": {},
   "outputs": [
    {
     "data": {
      "text/plain": [
       "User_ID                           int64\n",
       "Product_ID                       object\n",
       "Gender                            int64\n",
       "Age                               int64\n",
       "Occupation                        int64\n",
       "City_Category                     int64\n",
       "Marital_Status                    int64\n",
       "Product_Category_1                int64\n",
       "Product_Category_2              float64\n",
       "Product_Category_3              float64\n",
       "Purchase                          int64\n",
       "Stay_In_Current_City_Years_0      uint8\n",
       "Stay_In_Current_City_Years_1      uint8\n",
       "Stay_In_Current_City_Years_2      uint8\n",
       "Stay_In_Current_City_Years_3      uint8\n",
       "Stay_In_Current_City_Years_4      uint8\n",
       "dtype: object"
      ]
     },
     "execution_count": 8,
     "metadata": {},
     "output_type": "execute_result"
    }
   ],
   "source": [
    "from sklearn.preprocessing import LabelEncoder\n",
    "le = LabelEncoder()\n",
    "#New variable for outlet\n",
    "dataset['Stay_In_Current_City_Years'] = le.fit_transform(dataset['Stay_In_Current_City_Years'])\n",
    "    \n",
    "#Dummy Variables:\n",
    "dataset = pd.get_dummies(dataset, columns=['Stay_In_Current_City_Years'])\n",
    "dataset.dtypes"
   ]
  },
  {
   "cell_type": "code",
   "execution_count": 9,
   "metadata": {},
   "outputs": [
    {
     "data": {
      "text/html": [
       "<div>\n",
       "<style scoped>\n",
       "    .dataframe tbody tr th:only-of-type {\n",
       "        vertical-align: middle;\n",
       "    }\n",
       "\n",
       "    .dataframe tbody tr th {\n",
       "        vertical-align: top;\n",
       "    }\n",
       "\n",
       "    .dataframe thead th {\n",
       "        text-align: right;\n",
       "    }\n",
       "</style>\n",
       "<table border=\"1\" class=\"dataframe\">\n",
       "  <thead>\n",
       "    <tr style=\"text-align: right;\">\n",
       "      <th></th>\n",
       "      <th>User_ID</th>\n",
       "      <th>Product_ID</th>\n",
       "      <th>Gender</th>\n",
       "      <th>Age</th>\n",
       "      <th>Occupation</th>\n",
       "      <th>City_Category</th>\n",
       "      <th>Marital_Status</th>\n",
       "      <th>Product_Category_1</th>\n",
       "      <th>Product_Category_2</th>\n",
       "      <th>Product_Category_3</th>\n",
       "      <th>Purchase</th>\n",
       "      <th>Stay_In_Current_City_Years_0</th>\n",
       "      <th>Stay_In_Current_City_Years_1</th>\n",
       "      <th>Stay_In_Current_City_Years_2</th>\n",
       "      <th>Stay_In_Current_City_Years_3</th>\n",
       "      <th>Stay_In_Current_City_Years_4</th>\n",
       "    </tr>\n",
       "  </thead>\n",
       "  <tbody>\n",
       "    <tr>\n",
       "      <th>0</th>\n",
       "      <td>1000001</td>\n",
       "      <td>P00069042</td>\n",
       "      <td>0</td>\n",
       "      <td>0</td>\n",
       "      <td>10</td>\n",
       "      <td>0</td>\n",
       "      <td>0</td>\n",
       "      <td>3</td>\n",
       "      <td>NaN</td>\n",
       "      <td>NaN</td>\n",
       "      <td>8370</td>\n",
       "      <td>0</td>\n",
       "      <td>0</td>\n",
       "      <td>1</td>\n",
       "      <td>0</td>\n",
       "      <td>0</td>\n",
       "    </tr>\n",
       "    <tr>\n",
       "      <th>1</th>\n",
       "      <td>1000001</td>\n",
       "      <td>P00248942</td>\n",
       "      <td>0</td>\n",
       "      <td>0</td>\n",
       "      <td>10</td>\n",
       "      <td>0</td>\n",
       "      <td>0</td>\n",
       "      <td>1</td>\n",
       "      <td>6.0</td>\n",
       "      <td>14.0</td>\n",
       "      <td>15200</td>\n",
       "      <td>0</td>\n",
       "      <td>0</td>\n",
       "      <td>1</td>\n",
       "      <td>0</td>\n",
       "      <td>0</td>\n",
       "    </tr>\n",
       "    <tr>\n",
       "      <th>2</th>\n",
       "      <td>1000001</td>\n",
       "      <td>P00087842</td>\n",
       "      <td>0</td>\n",
       "      <td>0</td>\n",
       "      <td>10</td>\n",
       "      <td>0</td>\n",
       "      <td>0</td>\n",
       "      <td>12</td>\n",
       "      <td>NaN</td>\n",
       "      <td>NaN</td>\n",
       "      <td>1422</td>\n",
       "      <td>0</td>\n",
       "      <td>0</td>\n",
       "      <td>1</td>\n",
       "      <td>0</td>\n",
       "      <td>0</td>\n",
       "    </tr>\n",
       "    <tr>\n",
       "      <th>3</th>\n",
       "      <td>1000001</td>\n",
       "      <td>P00085442</td>\n",
       "      <td>0</td>\n",
       "      <td>0</td>\n",
       "      <td>10</td>\n",
       "      <td>0</td>\n",
       "      <td>0</td>\n",
       "      <td>12</td>\n",
       "      <td>14.0</td>\n",
       "      <td>NaN</td>\n",
       "      <td>1057</td>\n",
       "      <td>0</td>\n",
       "      <td>0</td>\n",
       "      <td>1</td>\n",
       "      <td>0</td>\n",
       "      <td>0</td>\n",
       "    </tr>\n",
       "    <tr>\n",
       "      <th>4</th>\n",
       "      <td>1000002</td>\n",
       "      <td>P00285442</td>\n",
       "      <td>1</td>\n",
       "      <td>0</td>\n",
       "      <td>16</td>\n",
       "      <td>2</td>\n",
       "      <td>0</td>\n",
       "      <td>8</td>\n",
       "      <td>NaN</td>\n",
       "      <td>NaN</td>\n",
       "      <td>7969</td>\n",
       "      <td>0</td>\n",
       "      <td>0</td>\n",
       "      <td>0</td>\n",
       "      <td>0</td>\n",
       "      <td>1</td>\n",
       "    </tr>\n",
       "  </tbody>\n",
       "</table>\n",
       "</div>"
      ],
      "text/plain": [
       "   User_ID Product_ID  Gender  Age  Occupation  City_Category  Marital_Status  \\\n",
       "0  1000001  P00069042       0    0          10              0               0   \n",
       "1  1000001  P00248942       0    0          10              0               0   \n",
       "2  1000001  P00087842       0    0          10              0               0   \n",
       "3  1000001  P00085442       0    0          10              0               0   \n",
       "4  1000002  P00285442       1    0          16              2               0   \n",
       "\n",
       "   Product_Category_1  Product_Category_2  Product_Category_3  Purchase  \\\n",
       "0                   3                 NaN                 NaN      8370   \n",
       "1                   1                 6.0                14.0     15200   \n",
       "2                  12                 NaN                 NaN      1422   \n",
       "3                  12                14.0                 NaN      1057   \n",
       "4                   8                 NaN                 NaN      7969   \n",
       "\n",
       "   Stay_In_Current_City_Years_0  Stay_In_Current_City_Years_1  \\\n",
       "0                             0                             0   \n",
       "1                             0                             0   \n",
       "2                             0                             0   \n",
       "3                             0                             0   \n",
       "4                             0                             0   \n",
       "\n",
       "   Stay_In_Current_City_Years_2  Stay_In_Current_City_Years_3  \\\n",
       "0                             1                             0   \n",
       "1                             1                             0   \n",
       "2                             1                             0   \n",
       "3                             1                             0   \n",
       "4                             0                             0   \n",
       "\n",
       "   Stay_In_Current_City_Years_4  \n",
       "0                             0  \n",
       "1                             0  \n",
       "2                             0  \n",
       "3                             0  \n",
       "4                             1  "
      ]
     },
     "execution_count": 9,
     "metadata": {},
     "output_type": "execute_result"
    }
   ],
   "source": [
    "dataset.head()"
   ]
  },
  {
   "cell_type": "code",
   "execution_count": 10,
   "metadata": {},
   "outputs": [
    {
     "data": {
      "text/plain": [
       "User_ID                          0.000000\n",
       "Product_ID                       0.000000\n",
       "Gender                           0.000000\n",
       "Age                              0.000000\n",
       "Occupation                       0.000000\n",
       "City_Category                    0.000000\n",
       "Marital_Status                   0.000000\n",
       "Product_Category_1               0.000000\n",
       "Product_Category_2              31.062713\n",
       "Product_Category_3              69.441029\n",
       "Purchase                         0.000000\n",
       "Stay_In_Current_City_Years_0     0.000000\n",
       "Stay_In_Current_City_Years_1     0.000000\n",
       "Stay_In_Current_City_Years_2     0.000000\n",
       "Stay_In_Current_City_Years_3     0.000000\n",
       "Stay_In_Current_City_Years_4     0.000000\n",
       "dtype: float64"
      ]
     },
     "execution_count": 10,
     "metadata": {},
     "output_type": "execute_result"
    }
   ],
   "source": [
    "#Percentage of null values per variable missing values\n",
    "dataset.isnull().sum()/dataset.shape[0]*100"
   ]
  },
  {
   "cell_type": "code",
   "execution_count": 11,
   "metadata": {},
   "outputs": [],
   "source": [
    "prod2Mean=dataset.Product_Category_2.mean()\n",
    "prod3Mean=dataset.Product_Category_3.mean()"
   ]
  },
  {
   "cell_type": "code",
   "execution_count": 12,
   "metadata": {},
   "outputs": [],
   "source": [
    "dataset['ProductCategory2']=dataset['Product_Category_2'].fillna(prod2Mean)"
   ]
  },
  {
   "cell_type": "code",
   "execution_count": 13,
   "metadata": {},
   "outputs": [],
   "source": [
    "dataset['ProductCategory3']=dataset['Product_Category_3'].fillna(prod3Mean)"
   ]
  },
  {
   "cell_type": "code",
   "execution_count": 14,
   "metadata": {},
   "outputs": [
    {
     "data": {
      "text/plain": [
       "User_ID                          0.000000\n",
       "Product_ID                       0.000000\n",
       "Gender                           0.000000\n",
       "Age                              0.000000\n",
       "Occupation                       0.000000\n",
       "City_Category                    0.000000\n",
       "Marital_Status                   0.000000\n",
       "Product_Category_1               0.000000\n",
       "Product_Category_2              31.062713\n",
       "Product_Category_3              69.441029\n",
       "Purchase                         0.000000\n",
       "Stay_In_Current_City_Years_0     0.000000\n",
       "Stay_In_Current_City_Years_1     0.000000\n",
       "Stay_In_Current_City_Years_2     0.000000\n",
       "Stay_In_Current_City_Years_3     0.000000\n",
       "Stay_In_Current_City_Years_4     0.000000\n",
       "ProductCategory2                 0.000000\n",
       "ProductCategory3                 0.000000\n",
       "dtype: float64"
      ]
     },
     "execution_count": 14,
     "metadata": {},
     "output_type": "execute_result"
    }
   ],
   "source": [
    "dataset.isnull().sum()/dataset.shape[0]*100"
   ]
  },
  {
   "cell_type": "code",
   "execution_count": 15,
   "metadata": {},
   "outputs": [
    {
     "data": {
      "text/html": [
       "<div>\n",
       "<style scoped>\n",
       "    .dataframe tbody tr th:only-of-type {\n",
       "        vertical-align: middle;\n",
       "    }\n",
       "\n",
       "    .dataframe tbody tr th {\n",
       "        vertical-align: top;\n",
       "    }\n",
       "\n",
       "    .dataframe thead th {\n",
       "        text-align: right;\n",
       "    }\n",
       "</style>\n",
       "<table border=\"1\" class=\"dataframe\">\n",
       "  <thead>\n",
       "    <tr style=\"text-align: right;\">\n",
       "      <th></th>\n",
       "      <th>User_ID</th>\n",
       "      <th>Product_ID</th>\n",
       "      <th>Gender</th>\n",
       "      <th>Age</th>\n",
       "      <th>Occupation</th>\n",
       "      <th>City_Category</th>\n",
       "      <th>Marital_Status</th>\n",
       "      <th>Product_Category_1</th>\n",
       "      <th>Purchase</th>\n",
       "      <th>Stay_In_Current_City_Years_0</th>\n",
       "      <th>Stay_In_Current_City_Years_1</th>\n",
       "      <th>Stay_In_Current_City_Years_2</th>\n",
       "      <th>Stay_In_Current_City_Years_3</th>\n",
       "      <th>Stay_In_Current_City_Years_4</th>\n",
       "      <th>ProductCategory2</th>\n",
       "      <th>ProductCategory3</th>\n",
       "    </tr>\n",
       "  </thead>\n",
       "  <tbody>\n",
       "    <tr>\n",
       "      <th>0</th>\n",
       "      <td>1000001</td>\n",
       "      <td>P00069042</td>\n",
       "      <td>0</td>\n",
       "      <td>0</td>\n",
       "      <td>10</td>\n",
       "      <td>0</td>\n",
       "      <td>0</td>\n",
       "      <td>3</td>\n",
       "      <td>8370</td>\n",
       "      <td>0</td>\n",
       "      <td>0</td>\n",
       "      <td>1</td>\n",
       "      <td>0</td>\n",
       "      <td>0</td>\n",
       "      <td>9.842144</td>\n",
       "      <td>12.66984</td>\n",
       "    </tr>\n",
       "    <tr>\n",
       "      <th>1</th>\n",
       "      <td>1000001</td>\n",
       "      <td>P00248942</td>\n",
       "      <td>0</td>\n",
       "      <td>0</td>\n",
       "      <td>10</td>\n",
       "      <td>0</td>\n",
       "      <td>0</td>\n",
       "      <td>1</td>\n",
       "      <td>15200</td>\n",
       "      <td>0</td>\n",
       "      <td>0</td>\n",
       "      <td>1</td>\n",
       "      <td>0</td>\n",
       "      <td>0</td>\n",
       "      <td>6.000000</td>\n",
       "      <td>14.00000</td>\n",
       "    </tr>\n",
       "    <tr>\n",
       "      <th>2</th>\n",
       "      <td>1000001</td>\n",
       "      <td>P00087842</td>\n",
       "      <td>0</td>\n",
       "      <td>0</td>\n",
       "      <td>10</td>\n",
       "      <td>0</td>\n",
       "      <td>0</td>\n",
       "      <td>12</td>\n",
       "      <td>1422</td>\n",
       "      <td>0</td>\n",
       "      <td>0</td>\n",
       "      <td>1</td>\n",
       "      <td>0</td>\n",
       "      <td>0</td>\n",
       "      <td>9.842144</td>\n",
       "      <td>12.66984</td>\n",
       "    </tr>\n",
       "    <tr>\n",
       "      <th>3</th>\n",
       "      <td>1000001</td>\n",
       "      <td>P00085442</td>\n",
       "      <td>0</td>\n",
       "      <td>0</td>\n",
       "      <td>10</td>\n",
       "      <td>0</td>\n",
       "      <td>0</td>\n",
       "      <td>12</td>\n",
       "      <td>1057</td>\n",
       "      <td>0</td>\n",
       "      <td>0</td>\n",
       "      <td>1</td>\n",
       "      <td>0</td>\n",
       "      <td>0</td>\n",
       "      <td>14.000000</td>\n",
       "      <td>12.66984</td>\n",
       "    </tr>\n",
       "    <tr>\n",
       "      <th>4</th>\n",
       "      <td>1000002</td>\n",
       "      <td>P00285442</td>\n",
       "      <td>1</td>\n",
       "      <td>0</td>\n",
       "      <td>16</td>\n",
       "      <td>2</td>\n",
       "      <td>0</td>\n",
       "      <td>8</td>\n",
       "      <td>7969</td>\n",
       "      <td>0</td>\n",
       "      <td>0</td>\n",
       "      <td>0</td>\n",
       "      <td>0</td>\n",
       "      <td>1</td>\n",
       "      <td>9.842144</td>\n",
       "      <td>12.66984</td>\n",
       "    </tr>\n",
       "  </tbody>\n",
       "</table>\n",
       "</div>"
      ],
      "text/plain": [
       "   User_ID Product_ID  Gender  Age  Occupation  City_Category  Marital_Status  \\\n",
       "0  1000001  P00069042       0    0          10              0               0   \n",
       "1  1000001  P00248942       0    0          10              0               0   \n",
       "2  1000001  P00087842       0    0          10              0               0   \n",
       "3  1000001  P00085442       0    0          10              0               0   \n",
       "4  1000002  P00285442       1    0          16              2               0   \n",
       "\n",
       "   Product_Category_1  Purchase  Stay_In_Current_City_Years_0  \\\n",
       "0                   3      8370                             0   \n",
       "1                   1     15200                             0   \n",
       "2                  12      1422                             0   \n",
       "3                  12      1057                             0   \n",
       "4                   8      7969                             0   \n",
       "\n",
       "   Stay_In_Current_City_Years_1  Stay_In_Current_City_Years_2  \\\n",
       "0                             0                             1   \n",
       "1                             0                             1   \n",
       "2                             0                             1   \n",
       "3                             0                             1   \n",
       "4                             0                             0   \n",
       "\n",
       "   Stay_In_Current_City_Years_3  Stay_In_Current_City_Years_4  \\\n",
       "0                             0                             0   \n",
       "1                             0                             0   \n",
       "2                             0                             0   \n",
       "3                             0                             0   \n",
       "4                             0                             1   \n",
       "\n",
       "   ProductCategory2  ProductCategory3  \n",
       "0          9.842144          12.66984  \n",
       "1          6.000000          14.00000  \n",
       "2          9.842144          12.66984  \n",
       "3         14.000000          12.66984  \n",
       "4          9.842144          12.66984  "
      ]
     },
     "execution_count": 15,
     "metadata": {},
     "output_type": "execute_result"
    }
   ],
   "source": [
    "df=dataset.drop(['Product_Category_2','Product_Category_3'],axis=1)\n",
    "\n",
    "df.head()"
   ]
  },
  {
   "cell_type": "code",
   "execution_count": 16,
   "metadata": {},
   "outputs": [
    {
     "data": {
      "text/plain": [
       "3623"
      ]
     },
     "execution_count": 16,
     "metadata": {},
     "output_type": "execute_result"
    }
   ],
   "source": [
    "df.Product_ID.nunique()"
   ]
  },
  {
   "cell_type": "code",
   "execution_count": 17,
   "metadata": {},
   "outputs": [
    {
     "data": {
      "image/png": "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\n",
      "text/plain": [
       "<Figure size 360x288 with 1 Axes>"
      ]
     },
     "metadata": {},
     "output_type": "display_data"
    }
   ],
   "source": [
    "def plot(group,column,plot):\n",
    "    ax=plt.figure(figsize=(5,4))\n",
    "    df.groupby(group)[column].sum().sort_values().plot(plot)\n",
    "    \n",
    "plot('Gender','Purchase','bar')"
   ]
  },
  {
   "cell_type": "code",
   "execution_count": 18,
   "metadata": {},
   "outputs": [
    {
     "data": {
      "image/png": "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\n",
      "text/plain": [
       "<Figure size 360x288 with 1 Axes>"
      ]
     },
     "metadata": {},
     "output_type": "display_data"
    }
   ],
   "source": [
    "plot('Age','Purchase','bar')\n",
    "\n"
   ]
  },
  {
   "cell_type": "code",
   "execution_count": 19,
   "metadata": {},
   "outputs": [],
   "source": [
    "datatest=df.drop(['User_ID','Product_ID','Product_Category_1','Stay_In_Current_City_Years_0','Stay_In_Current_City_Years_1','Stay_In_Current_City_Years_2','Stay_In_Current_City_Years_3','Stay_In_Current_City_Years_4','ProductCategory2','ProductCategory3'],axis=1)\n"
   ]
  },
  {
   "cell_type": "code",
   "execution_count": 20,
   "metadata": {},
   "outputs": [
    {
     "data": {
      "text/html": [
       "<div>\n",
       "<style scoped>\n",
       "    .dataframe tbody tr th:only-of-type {\n",
       "        vertical-align: middle;\n",
       "    }\n",
       "\n",
       "    .dataframe tbody tr th {\n",
       "        vertical-align: top;\n",
       "    }\n",
       "\n",
       "    .dataframe thead th {\n",
       "        text-align: right;\n",
       "    }\n",
       "</style>\n",
       "<table border=\"1\" class=\"dataframe\">\n",
       "  <thead>\n",
       "    <tr style=\"text-align: right;\">\n",
       "      <th></th>\n",
       "      <th>Gender</th>\n",
       "      <th>Age</th>\n",
       "      <th>Occupation</th>\n",
       "      <th>City_Category</th>\n",
       "      <th>Marital_Status</th>\n",
       "      <th>Purchase</th>\n",
       "    </tr>\n",
       "  </thead>\n",
       "  <tbody>\n",
       "    <tr>\n",
       "      <th>0</th>\n",
       "      <td>0</td>\n",
       "      <td>0</td>\n",
       "      <td>10</td>\n",
       "      <td>0</td>\n",
       "      <td>0</td>\n",
       "      <td>8370</td>\n",
       "    </tr>\n",
       "    <tr>\n",
       "      <th>1</th>\n",
       "      <td>0</td>\n",
       "      <td>0</td>\n",
       "      <td>10</td>\n",
       "      <td>0</td>\n",
       "      <td>0</td>\n",
       "      <td>15200</td>\n",
       "    </tr>\n",
       "    <tr>\n",
       "      <th>2</th>\n",
       "      <td>0</td>\n",
       "      <td>0</td>\n",
       "      <td>10</td>\n",
       "      <td>0</td>\n",
       "      <td>0</td>\n",
       "      <td>1422</td>\n",
       "    </tr>\n",
       "    <tr>\n",
       "      <th>3</th>\n",
       "      <td>0</td>\n",
       "      <td>0</td>\n",
       "      <td>10</td>\n",
       "      <td>0</td>\n",
       "      <td>0</td>\n",
       "      <td>1057</td>\n",
       "    </tr>\n",
       "    <tr>\n",
       "      <th>4</th>\n",
       "      <td>1</td>\n",
       "      <td>0</td>\n",
       "      <td>16</td>\n",
       "      <td>2</td>\n",
       "      <td>0</td>\n",
       "      <td>7969</td>\n",
       "    </tr>\n",
       "  </tbody>\n",
       "</table>\n",
       "</div>"
      ],
      "text/plain": [
       "   Gender  Age  Occupation  City_Category  Marital_Status  Purchase\n",
       "0       0    0          10              0               0      8370\n",
       "1       0    0          10              0               0     15200\n",
       "2       0    0          10              0               0      1422\n",
       "3       0    0          10              0               0      1057\n",
       "4       1    0          16              2               0      7969"
      ]
     },
     "execution_count": 20,
     "metadata": {},
     "output_type": "execute_result"
    }
   ],
   "source": [
    "datatest.head()"
   ]
  },
  {
   "cell_type": "code",
   "execution_count": 32,
   "metadata": {},
   "outputs": [
    {
     "data": {
      "text/plain": [
       "0     0.349318\n",
       "1     0.634364\n",
       "2     0.059346\n",
       "3     0.044113\n",
       "4     0.332582\n",
       "5     0.635491\n",
       "6     0.801928\n",
       "7     0.661659\n",
       "8     0.654647\n",
       "9     0.328492\n",
       "10    0.219273\n",
       "11    0.165143\n",
       "12    0.253454\n",
       "13    0.653771\n",
       "14    0.224448\n",
       "15    0.086766\n",
       "16    0.544844\n",
       "17    0.369392\n",
       "18    0.491966\n",
       "19    0.818580\n",
       "20    0.358249\n",
       "21    0.412003\n",
       "22    0.406619\n",
       "23    0.249656\n",
       "24    0.497767\n",
       "25    0.695380\n",
       "26    0.245691\n",
       "27    0.291015\n",
       "28    0.224991\n",
       "29    0.682442\n",
       "30    0.370853\n",
       "31    0.245190\n",
       "32    0.369517\n",
       "33    0.456826\n",
       "34    0.215016\n",
       "35    0.295856\n",
       "36    0.538750\n",
       "37    0.366011\n",
       "38    0.634865\n",
       "39    0.655440\n",
       "40    0.331664\n",
       "41    0.791411\n",
       "42    0.363841\n",
       "43    0.684696\n",
       "44    0.527607\n",
       "45    0.417637\n",
       "46    0.482534\n",
       "47    0.257544\n",
       "48    0.806602\n",
       "49    0.335003\n",
       "Name: Purchase, dtype: float64"
      ]
     },
     "execution_count": 32,
     "metadata": {},
     "output_type": "execute_result"
    }
   ],
   "source": [
    "y = datatest['Purchase']\n",
    "ymax = y.max()\n",
    "y = y / ymax\n",
    "x = np.array(datatest.drop(['Purchase'], axis=1))\n",
    "data=y.head(50)\n",
    "data\n",
    "#df['Purchase'].plot(kind='barh',color='red',figsize=(10,5))"
   ]
  },
  {
   "cell_type": "code",
   "execution_count": 33,
   "metadata": {},
   "outputs": [],
   "source": [
    "from sklearn.model_selection import train_test_split"
   ]
  },
  {
   "cell_type": "code",
   "execution_count": 34,
   "metadata": {},
   "outputs": [],
   "source": [
    "xtrain,xtest,ytrain,ytest = train_test_split(x,y,test_size=0.2)"
   ]
  },
  {
   "cell_type": "code",
   "execution_count": 45,
   "metadata": {},
   "outputs": [],
   "source": [
    "model = keras.models.Sequential([\n",
    "    keras.layers.Dense(7,input_shape=(x[0].shape),activation=tf.nn.relu),\n",
    "    keras.layers.Dense(3, activation=tf.nn.relu),\n",
    "    keras.layers.Dense(1)\n",
    "])"
   ]
  },
  {
   "cell_type": "code",
   "execution_count": 46,
   "metadata": {},
   "outputs": [],
   "source": [
    "model.compile(loss='mse',\n",
    "             optimizer=keras.optimizers.Adam(0.01),\n",
    "             metrics=['mae'])"
   ]
  },
  {
   "cell_type": "code",
   "execution_count": 58,
   "metadata": {},
   "outputs": [
    {
     "name": "stdout",
     "output_type": "stream",
     "text": [
      "Train on 344048 samples, validate on 86013 samples\n",
      "Epoch 1/50\n",
      " - 13s - loss: 0.0432 - mean_absolute_error: 0.1687 - val_loss: 0.0435 - val_mean_absolute_error: 0.1699\n",
      "Epoch 2/50\n",
      " - 13s - loss: 0.0432 - mean_absolute_error: 0.1687 - val_loss: 0.0436 - val_mean_absolute_error: 0.1666\n",
      "Epoch 3/50\n",
      " - 13s - loss: 0.0432 - mean_absolute_error: 0.1687 - val_loss: 0.0435 - val_mean_absolute_error: 0.1702\n",
      "Epoch 4/50\n",
      " - 13s - loss: 0.0432 - mean_absolute_error: 0.1687 - val_loss: 0.0438 - val_mean_absolute_error: 0.1654\n",
      "Epoch 5/50\n",
      " - 12s - loss: 0.0432 - mean_absolute_error: 0.1687 - val_loss: 0.0435 - val_mean_absolute_error: 0.1702\n",
      "Epoch 6/50\n",
      " - 12s - loss: 0.0432 - mean_absolute_error: 0.1687 - val_loss: 0.0436 - val_mean_absolute_error: 0.1667\n",
      "Epoch 7/50\n",
      " - 12s - loss: 0.0432 - mean_absolute_error: 0.1687 - val_loss: 0.0445 - val_mean_absolute_error: 0.1637\n",
      "Epoch 8/50\n",
      " - 12s - loss: 0.0432 - mean_absolute_error: 0.1687 - val_loss: 0.0435 - val_mean_absolute_error: 0.1700\n",
      "Epoch 9/50\n",
      " - 12s - loss: 0.0432 - mean_absolute_error: 0.1687 - val_loss: 0.0435 - val_mean_absolute_error: 0.1698\n",
      "Epoch 10/50\n",
      " - 12s - loss: 0.0432 - mean_absolute_error: 0.1686 - val_loss: 0.0437 - val_mean_absolute_error: 0.1661\n",
      "Epoch 11/50\n",
      " - 12s - loss: 0.0432 - mean_absolute_error: 0.1687 - val_loss: 0.0438 - val_mean_absolute_error: 0.1654\n",
      "Epoch 12/50\n",
      " - 12s - loss: 0.0432 - mean_absolute_error: 0.1687 - val_loss: 0.0440 - val_mean_absolute_error: 0.1646\n",
      "Epoch 13/50\n",
      " - 12s - loss: 0.0432 - mean_absolute_error: 0.1687 - val_loss: 0.0435 - val_mean_absolute_error: 0.1683\n",
      "Epoch 14/50\n",
      " - 12s - loss: 0.0432 - mean_absolute_error: 0.1686 - val_loss: 0.0440 - val_mean_absolute_error: 0.1742\n",
      "Epoch 15/50\n",
      " - 12s - loss: 0.0432 - mean_absolute_error: 0.1687 - val_loss: 0.0440 - val_mean_absolute_error: 0.1647\n",
      "Epoch 16/50\n",
      " - 13s - loss: 0.0432 - mean_absolute_error: 0.1687 - val_loss: 0.0439 - val_mean_absolute_error: 0.1737\n",
      "Epoch 17/50\n",
      " - 13s - loss: 0.0432 - mean_absolute_error: 0.1687 - val_loss: 0.0435 - val_mean_absolute_error: 0.1711\n",
      "Epoch 18/50\n",
      " - 12s - loss: 0.0432 - mean_absolute_error: 0.1687 - val_loss: 0.0437 - val_mean_absolute_error: 0.1660\n",
      "Epoch 19/50\n",
      " - 12s - loss: 0.0432 - mean_absolute_error: 0.1686 - val_loss: 0.0442 - val_mean_absolute_error: 0.1642\n",
      "Epoch 20/50\n",
      " - 13s - loss: 0.0432 - mean_absolute_error: 0.1686 - val_loss: 0.0436 - val_mean_absolute_error: 0.1665\n",
      "Epoch 21/50\n",
      " - 12s - loss: 0.0432 - mean_absolute_error: 0.1687 - val_loss: 0.0435 - val_mean_absolute_error: 0.1706\n",
      "Epoch 22/50\n",
      " - 12s - loss: 0.0432 - mean_absolute_error: 0.1687 - val_loss: 0.0435 - val_mean_absolute_error: 0.1690\n",
      "Epoch 23/50\n",
      " - 13s - loss: 0.0432 - mean_absolute_error: 0.1686 - val_loss: 0.0436 - val_mean_absolute_error: 0.1670\n",
      "Epoch 24/50\n",
      " - 12s - loss: 0.0432 - mean_absolute_error: 0.1687 - val_loss: 0.0437 - val_mean_absolute_error: 0.1658\n",
      "Epoch 25/50\n",
      " - 13s - loss: 0.0432 - mean_absolute_error: 0.1687 - val_loss: 0.0438 - val_mean_absolute_error: 0.1730\n",
      "Epoch 26/50\n",
      " - 12s - loss: 0.0432 - mean_absolute_error: 0.1687 - val_loss: 0.0438 - val_mean_absolute_error: 0.1654\n",
      "Epoch 27/50\n",
      " - 12s - loss: 0.0432 - mean_absolute_error: 0.1687 - val_loss: 0.0435 - val_mean_absolute_error: 0.1675\n",
      "Epoch 28/50\n",
      " - 12s - loss: 0.0432 - mean_absolute_error: 0.1687 - val_loss: 0.0438 - val_mean_absolute_error: 0.1654\n",
      "Epoch 29/50\n",
      " - 12s - loss: 0.0432 - mean_absolute_error: 0.1687 - val_loss: 0.0435 - val_mean_absolute_error: 0.1678\n",
      "Epoch 30/50\n",
      " - 12s - loss: 0.0433 - mean_absolute_error: 0.1687 - val_loss: 0.0435 - val_mean_absolute_error: 0.1674\n",
      "Epoch 31/50\n",
      " - 12s - loss: 0.0433 - mean_absolute_error: 0.1687 - val_loss: 0.0435 - val_mean_absolute_error: 0.1687\n",
      "Epoch 32/50\n",
      " - 12s - loss: 0.0432 - mean_absolute_error: 0.1687 - val_loss: 0.0435 - val_mean_absolute_error: 0.1676\n",
      "Epoch 33/50\n",
      " - 12s - loss: 0.0432 - mean_absolute_error: 0.1687 - val_loss: 0.0435 - val_mean_absolute_error: 0.1682\n",
      "Epoch 34/50\n",
      " - 13s - loss: 0.0432 - mean_absolute_error: 0.1687 - val_loss: 0.0443 - val_mean_absolute_error: 0.1757\n",
      "Epoch 35/50\n",
      " - 12s - loss: 0.0432 - mean_absolute_error: 0.1687 - val_loss: 0.0435 - val_mean_absolute_error: 0.1683\n",
      "Epoch 36/50\n",
      " - 12s - loss: 0.0432 - mean_absolute_error: 0.1686 - val_loss: 0.0435 - val_mean_absolute_error: 0.1682\n",
      "Epoch 37/50\n",
      " - 12s - loss: 0.0432 - mean_absolute_error: 0.1687 - val_loss: 0.0435 - val_mean_absolute_error: 0.1678\n",
      "Epoch 38/50\n",
      " - 12s - loss: 0.0432 - mean_absolute_error: 0.1686 - val_loss: 0.0435 - val_mean_absolute_error: 0.1699\n",
      "Epoch 39/50\n",
      " - 12s - loss: 0.0432 - mean_absolute_error: 0.1687 - val_loss: 0.0435 - val_mean_absolute_error: 0.1702\n",
      "Epoch 40/50\n",
      " - 12s - loss: 0.0432 - mean_absolute_error: 0.1687 - val_loss: 0.0440 - val_mean_absolute_error: 0.1648\n",
      "Epoch 41/50\n",
      " - 12s - loss: 0.0432 - mean_absolute_error: 0.1687 - val_loss: 0.0437 - val_mean_absolute_error: 0.1721\n",
      "Epoch 42/50\n",
      " - 12s - loss: 0.0432 - mean_absolute_error: 0.1687 - val_loss: 0.0435 - val_mean_absolute_error: 0.1687\n",
      "Epoch 43/50\n",
      " - 12s - loss: 0.0432 - mean_absolute_error: 0.1687 - val_loss: 0.0435 - val_mean_absolute_error: 0.1678\n",
      "Epoch 44/50\n",
      " - 12s - loss: 0.0432 - mean_absolute_error: 0.1687 - val_loss: 0.0435 - val_mean_absolute_error: 0.1689\n",
      "Epoch 45/50\n",
      " - 12s - loss: 0.0432 - mean_absolute_error: 0.1687 - val_loss: 0.0438 - val_mean_absolute_error: 0.1655\n",
      "Epoch 46/50\n",
      " - 12s - loss: 0.0432 - mean_absolute_error: 0.1687 - val_loss: 0.0435 - val_mean_absolute_error: 0.1675\n",
      "Epoch 47/50\n",
      " - 12s - loss: 0.0432 - mean_absolute_error: 0.1686 - val_loss: 0.0441 - val_mean_absolute_error: 0.1748\n",
      "Epoch 48/50\n",
      " - 13s - loss: 0.0432 - mean_absolute_error: 0.1687 - val_loss: 0.0435 - val_mean_absolute_error: 0.1700\n",
      "Epoch 49/50\n",
      " - 12s - loss: 0.0432 - mean_absolute_error: 0.1687 - val_loss: 0.0435 - val_mean_absolute_error: 0.1697\n",
      "Epoch 50/50\n",
      " - 12s - loss: 0.0432 - mean_absolute_error: 0.1687 - val_loss: 0.0436 - val_mean_absolute_error: 0.1668\n"
     ]
    }
   ],
   "source": [
    "history = model.fit(xtrain,ytrain,epochs=50,validation_split=0.2, verbose=2)"
   ]
  },
  {
   "cell_type": "code",
   "execution_count": 59,
   "metadata": {},
   "outputs": [
    {
     "data": {
      "text/plain": [
       "[<matplotlib.lines.Line2D at 0xd307d5e400>]"
      ]
     },
     "execution_count": 59,
     "metadata": {},
     "output_type": "execute_result"
    },
    {
     "data": {
      "image/png": "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\n",
      "text/plain": [
       "<Figure size 432x288 with 1 Axes>"
      ]
     },
     "metadata": {},
     "output_type": "display_data"
    }
   ],
   "source": [
    "plt.plot(history.epoch, history.history['loss'], 'g')\n",
    "plt.plot(history.epoch, history.history['val_loss'])"
   ]
  },
  {
   "cell_type": "code",
   "execution_count": 56,
   "metadata": {},
   "outputs": [
    {
     "name": "stdout",
     "output_type": "stream",
     "text": [
      "107516/107516 [==============================] - 2s 15us/step\n"
     ]
    },
    {
     "data": {
      "text/plain": [
       "(0.04352168676876264, 0.16998303221005973)"
      ]
     },
     "execution_count": 56,
     "metadata": {},
     "output_type": "execute_result"
    }
   ],
   "source": [
    "loss, error = model.evaluate(xtest,ytest)\n",
    "loss,error"
   ]
  },
  {
   "cell_type": "code",
   "execution_count": 57,
   "metadata": {},
   "outputs": [
    {
     "name": "stdout",
     "output_type": "stream",
     "text": [
      "430061/430061 [==============================] - 7s 16us/step\n"
     ]
    },
    {
     "data": {
      "text/plain": [
       "[0.04314244012552057, 0.1691561759822821]"
      ]
     },
     "execution_count": 57,
     "metadata": {},
     "output_type": "execute_result"
    }
   ],
   "source": [
    "model.evaluate(xtrain, ytrain)"
   ]
  },
  {
   "cell_type": "code",
   "execution_count": 51,
   "metadata": {},
   "outputs": [],
   "source": [
    "a = model.predict(xtrain[:5]) * ymax"
   ]
  },
  {
   "cell_type": "code",
   "execution_count": 52,
   "metadata": {},
   "outputs": [],
   "source": [
    "b= ytrain[:5] * ymax"
   ]
 
